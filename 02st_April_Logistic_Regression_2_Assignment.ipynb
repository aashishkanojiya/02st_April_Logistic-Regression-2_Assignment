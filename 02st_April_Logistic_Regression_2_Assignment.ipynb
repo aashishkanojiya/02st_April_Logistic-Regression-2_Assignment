{
  "nbformat": 4,
  "nbformat_minor": 0,
  "metadata": {
    "colab": {
      "provenance": []
    },
    "kernelspec": {
      "name": "python3",
      "display_name": "Python 3"
    },
    "language_info": {
      "name": "python"
    }
  },
  "cells": [
    {
      "cell_type": "markdown",
      "source": [
        "Q1. What is the purpose of grid search cv in machine learning, and how does it work?"
      ],
      "metadata": {
        "id": "jv0UoZ_kg_Ng"
      }
    },
    {
      "cell_type": "markdown",
      "source": [
        "Answer:-\n",
        "\n",
        "Grid Search Cross-Validation (Grid Search CV) is a method used in machine learning to find the best settings (hyperparameters) for a model. The main goals of using Grid Search CV are:\n",
        "\n",
        "1.Tuning Hyperparameters: It helps you discover the best combination of hyperparameters that can improve your model's performance.\n",
        "\n",
        "2.Comparing Models: You can use it to compare different models or algorithms by testing various hyperparameter settings.\n",
        "\n",
        "3.Better Generalization: By selecting the optimal hyperparameters, you can create models that perform better on new, unseen data.\n",
        "\n",
        "How Does Grid Search CV Work?\n",
        "\n",
        "1.Set Up a Grid: First, you define a grid of hyperparameters and their possible values. This grid represents all the combinations you want to test.\n",
        "\n",
        "2.Cross-Validation: For each combination of hyperparameters, the model is trained and evaluated using cross-validation. This means splitting your data into several parts (or \"folds\"). The model is trained on some folds and tested on the remaining ones.\n",
        "\n",
        "3.Evaluate Performance: The model's performance is measured using a specific metric (like accuracy or F1-score) for each combination of hyperparameters across all folds.\n",
        "\n",
        "4.Find the Best Combination: After testing all combinations, Grid Search CV identifies which set of hyperparameters gives the best performance based on your chosen metric.\n",
        "\n",
        "5.Train the Final Model: Once you have the best hyperparameters, you retrain your model using these optimal settings on the entire dataset.\n",
        "\n",
        "Example\n",
        "\n",
        "For example, if you are tuning a Support Vector Machine (SVM) model, you might create a grid like this:\n",
        "\n",
        "(i)C: [0.1, 1, 10]\n",
        "\n",
        "(ii)Kernel: ['linear', 'rbf']\n",
        "\n",
        "(iii)Gamma: [0.01, 0.1, 1]\n",
        "\n",
        "Grid Search CV will test all combinations of these values, train the model using cross-validation, and find out which combination works best.\n",
        "\n",
        "Conclusion\n",
        "\n",
        "In summary, Grid Search CV is a valuable tool for optimizing hyperparameters in machine learning. It helps improve model performance and ensures that your model generalizes well to new data."
      ],
      "metadata": {
        "id": "-rcNRN56hBa4"
      }
    },
    {
      "cell_type": "markdown",
      "source": [
        "Q2. Describe the difference between grid search cv and randomize search cv, and when might you choose\n",
        "one over the other?"
      ],
      "metadata": {
        "id": "GZmCUwuwhD4G"
      }
    },
    {
      "cell_type": "markdown",
      "source": [
        "Answer:-\n",
        "\n",
        "Grid search CV and randomized search CV are two popular techniques used in hyperparameter tuning for machine learning models. Here are the key differences between the two:\n",
        "\n",
        "1.Search space: Grid search CV searches over a pre-defined set of hyperparameters, whereas randomized search CV randomly samples hyperparameters from a distribution.\n",
        "\n",
        "2.Computation time: Grid search CV can be computationally expensive, especially for large search spaces, as it evaluates all possible combinations of hyperparameters. Randomized search CV, on the other hand, can be more efficient, as it only samples a specified number of hyperparameter combinations.\n",
        "\n",
        "3.Performance: Grid search CV can be more likely to find the best performing hyperparameters in a small search space, while randomized search CV can be more effective when the search space is large or the optimal hyperparameters are not clear.\n",
        "\n",
        "So, which technique to choose depends on the size of the search space, computational resources available, and the urgency of the problem. Here are some guidelines to help you choose:\n",
        "\n",
        "1.Choose grid search CV when you have a relatively small search space and sufficient computational resources, and you want to ensure that you find the best hyperparameters with high confidence.\n",
        "\n",
        "2.Choose randomized search CV when you have a large search space or limited computational resources, and you want to quickly explore a wide range of hyperparameters. Randomized search CV can also be more effective than grid search CV when the optimal hyperparameters are not clear or there are multiple good solutions.\n",
        "\n",
        "In general, it is recommended to start with randomized search CV to explore a wide range of hyperparameters, and then follow up with grid search CV on a smaller, more refined search space to fine-tune the best hyperparameters.\n",
        "\n",
        "![image.png](data:image/png;base64,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)"
      ],
      "metadata": {
        "id": "oLWibvmriYkQ"
      }
    },
    {
      "cell_type": "markdown",
      "source": [
        "Q3. What is data leakage, and why is it a problem in machine learning? Provide an example."
      ],
      "metadata": {
        "id": "dIuG-mL7j-OH"
      }
    },
    {
      "cell_type": "markdown",
      "source": [
        "Answer:-\n",
        "\n",
        "Data leakage happens when a machine learning model has access to information during training that it shouldn’t have. This can lead to the model performing better than it actually would in real-world situations because it has \"cheated\" by using data it shouldn’t have seen.\n",
        "\n",
        "Why is Data Leakage a Problem?\n",
        "\n",
        "1.Overfitting: When a model learns from leaked data, it may perform really well on the training data but fail to generalize to new, unseen data. This is because it has memorized the leaked information instead of learning the underlying patterns.\n",
        "\n",
        "2.Misleading Results: Data leakage can make the model seem more accurate than it really is. If you evaluate the model on data that includes leaked information, the performance metrics (like accuracy) will look great, but this doesn’t reflect how the model will perform in real life.\n",
        "\n",
        "3.Poor Real-World Performance: A model trained with leaked data may not work well when applied to new data, as it hasn’t learned to make predictions based on the actual features it will encounter.\n",
        "\n",
        "\n",
        "Example of Data Leakage\n",
        "Let’s say you’re building a model to predict whether a patient has a certain disease based on their medical tests and history.\n",
        "\n",
        "Scenario:\n",
        "\n",
        "1.Data Collection: You gather a dataset that includes test results, medical history, and whether the patient was diagnosed with the disease.\n",
        "\n",
        "2.Data Leakage: Imagine your dataset includes a feature that shows whether the patient received a specific medication. This medication is only given after a diagnosis. If your model uses this feature, it’s leaking information because it wouldn’t have access to this medication data before making a diagnosis.\n",
        "\n",
        "3.Consequences: If you train your model with this medication feature, it might show high accuracy during testing. However, when you try to use the model on new patients, it will likely perform poorly because it can’t access the medication information before a diagnosis is made.\n",
        "\n",
        "Conclusion\n",
        "\n",
        "In summary, data leakage is a significant issue in machine learning that can lead to misleading results and poor performance in real-world applications. To build effective models, it’s crucial to ensure that the training and validation data are properly managed so that the model learns to make predictions based on the right information."
      ],
      "metadata": {
        "id": "zQi44Y5fkBTo"
      }
    },
    {
      "cell_type": "markdown",
      "source": [
        "Q4. How can you prevent data leakage when building a machine learning model?"
      ],
      "metadata": {
        "id": "IsvxXFDWlBcC"
      }
    },
    {
      "cell_type": "markdown",
      "source": [
        "Answer:-\n",
        "\n",
        "Preventing data leakage is essential for creating reliable machine learning models. Here are some practical steps you can take to avoid it:\n",
        "\n",
        "1.Split Your Data Properly\n",
        "Train-Test Split: Always divide your dataset into training and testing sets before doing any analysis or preprocessing. This way, the model won’t see the test data while learning.\n",
        "Cross-Validation: Use techniques like k-fold cross-validation. This means splitting your data into k parts, training the model on k-1 parts, and testing it on the remaining part. This helps ensure that the model is evaluated fairly.\n",
        "\n",
        "2.Be Careful with Feature Engineering\n",
        "Avoid Future Information: When creating new features, make sure they don’t include information that wouldn’t be available at the time of prediction. For example, don’t use data that depends on the outcome you’re trying to predict.\n",
        "Time-Series Data: If you’re working with time-series data, ensure that you only use past data to predict future events. Don’t let future data influence your predictions.\n",
        "\n",
        "3.Handle Data Preprocessing Wisely\n",
        "Separate Preprocessing: Perform data cleaning and preprocessing steps (like scaling or filling in missing values) separately for the training and test datasets. Fit these steps only on the training data, then apply the same transformations to the test data.\n",
        "Use Pipelines: Consider using machine learning pipelines (like those in scikit-learn). Pipelines help automate the process and ensure that the same steps are applied consistently, reducing the risk of leakage.\n",
        "\n",
        "4.Be Cautious with Categorical Variables\n",
        "Encoding: When converting categorical variables into numerical ones, make sure to fit the encoding only on the training data. If you fit it on the entire dataset, you might accidentally leak information from the test set.\n",
        "\n",
        "5.Monitor for Data Leakage\n",
        "Check Feature Importance: After training your model, look at which features are most important. If a feature seems too predictive, investigate it to ensure it’s not leaking information.\n",
        "Realistic Validation: Use a validation strategy that reflects how the model will be used in the real world. This helps you spot potential leakage issues.\n",
        "\n",
        "6.Document and Review Your Process\n",
        "Keep Records: Document where your data comes from and how you process it. This helps you track potential leakage points.\n",
        "Peer Review: Have someone else review your model-building process. A fresh set of eyes can catch potential data leakage issues that you might have missed.\n",
        "\n",
        "Conclusion\n",
        "\n",
        "By following these steps, you can significantly reduce the risk of data leakage when building machine learning models. This will help ensure that your models are accurate, reliable, and perform well on new data. Remember, preventing data leakage is an ongoing effort that requires careful attention throughout the entire model development process!"
      ],
      "metadata": {
        "id": "Tv9e9s5blB3d"
      }
    },
    {
      "cell_type": "markdown",
      "source": [
        "Q5. What is a confusion matrix, and what does it tell you about the performance of a classification model?"
      ],
      "metadata": {
        "id": "3yDkGpFTl8Mj"
      }
    },
    {
      "cell_type": "markdown",
      "source": [
        "Answer:-\n",
        "\n",
        "A confusion matrix is a table that is used to evaluate the performance of a classification model. It is a square matrix that summarizes the number of correct and incorrect predictions made by the model on a set of data.\n",
        "\n",
        "A confusion matrix consists of four different metrics:\n",
        "\n",
        "1.True Positive (TP): This metric represents the number of positive instances that were correctly classified by the model.\n",
        "\n",
        "2.False Positive (FP): This metric represents the number of negative instances that were incorrectly classified as positive by the model.\n",
        "\n",
        "3.False Negative (FN): This metric represents the number of positive instances that were incorrectly classified as negative by the model.\n",
        "\n",
        "4.True Negative (TN): This metric represents the number of negative instances that were correctly classified by the model.\n",
        "\n",
        "The metrics in a confusion matrix can be used to calculate a variety of evaluation metrics for the model, including accuracy, precision, recall, and\n",
        "F1-score. These metrics are calculated as follows:\n",
        "\n",
        "(i)Accuracy = (TP + TN) / (TP + FP + FN + TN)\n",
        "\n",
        "(ii)Precision = TP / (TP + FP)\n",
        "\n",
        "(iii)Recall = TP / (TP + FN)\n",
        "\n",
        "(iv)F1-score = 2 * (precision * recall) / (precision + recall\n",
        "\n",
        "The confusion matrix allows us to understand the types of errors made by the model, and how often these errors occur. For example, if the model has a high number of false positives, it may be overly aggressive in predicting positive instances, while a high number of false negatives may indicate that the model is too conservative in its predictions. By analyzing the confusion matrix, we can identify areas for improvement in the model and make adjustments to improve its performance.\n",
        "\n",
        "Overall, a confusion matrix is a powerful tool for evaluating the performance of a classification model and can help us to understand how the model is making predictions and where it can be improved.\n",
        "\n",
        "![image.png](data:image/png;base64,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)\n"
      ],
      "metadata": {
        "id": "8IFroNH2l983"
      }
    },
    {
      "cell_type": "markdown",
      "source": [
        "Q6. Explain the difference between precision and recall in the context of a confusion matrix."
      ],
      "metadata": {
        "id": "2JnkCvRqmlXW"
      }
    },
    {
      "cell_type": "markdown",
      "source": [
        "Answer:-\n",
        "\n",
        "Precision and recall are two important performance metrics used to evaluate the quality of a classification model, particularly in the context of a confusion matrix. They provide insights into the model's ability to make accurate positive predictions and to capture all relevant positive instances, respectively. Here's an explanation of the difference between precision and recall:\n",
        "\n",
        "1.Precision (Positive Predictive Value):\n",
        "\n",
        "Definition: Precision measures the accuracy of positive predictions made by the model. It quantifies the proportion of instances predicted as positive that are actually true positives. Precision is calculated as TP/(TP+FP)\n",
        "\n",
        "Interpretation: Precision answers the question: \"Of all the instances that the model predicted as positive, how many were correctly classified?\" It focuses on the correctness of positive predictions and is particularly relevant when the cost of false positives is high. A high precision indicates that the model is cautious about making positive predictions and tends to be accurate when it does make them.\n",
        "\n",
        "2.Recall (Sensitivity, True Positive Rate):\n",
        "\n",
        "Definition: Recall measures the model's ability to identify all relevant positive instances from the total number of actual positive instances. It quantifies the proportion of true positives that were correctly classified by the model. Recall is calculated as TP/(TP+FN)\n",
        "\n",
        "Interpretation: Recall answers the question: \"Of all the actual positive instances, how many did the model correctly classify?\" It focuses on the model's ability to capture all positive cases and is particularly relevant when it's crucial not to miss any positive instances. A high recall indicates that the model is sensitive to identifying positive cases, even if it means it may produce more false positives in the process.\n",
        "\n",
        "In summary:\n",
        "\n",
        "Precision tells you how accurate your positive predictions are. It is concerned with minimizing false positives, which is beneficial when false positives are costly or undesirable.\n",
        "\n",
        "Recall tells you how effectively your model captures all positive instances. It is concerned with minimizing false negatives, which is crucial when missing positive cases can have significant consequences."
      ],
      "metadata": {
        "id": "C9pKvSQtmoAe"
      }
    },
    {
      "cell_type": "markdown",
      "source": [
        "Q7. How can you interpret a confusion matrix to determine which types of errors your model is making?"
      ],
      "metadata": {
        "id": "7AtH6LWjm3u-"
      }
    },
    {
      "cell_type": "markdown",
      "source": [
        "Answer:-\n",
        "\n",
        "To interpret a confusion matrix and determine which types of errors your model is making, you need to examine the values in the matrix and analyze the distribution of the true positive, false positive, false negative, and true negative predictions.\n",
        "\n",
        "The confusion matrix shows the number of instances that were correctly classified and those that were misclassified by the model. Specifically, the rows of the matrix correspond to the actual classes, while the columns correspond to the predicted classes\n",
        "\n",
        "To interpret the matrix, you can look at the following:\n",
        "\n",
        "1.True Positives (TP): This metric represents the number of positive instances that were correctly classified by the model. A high number of TP indicates that the model is doing a good job of correctly identifying positive instances.\n",
        "\n",
        "2.False Positives (FP): This metric represents the number of negative instances that were incorrectly classified as positive by the model. A high number of FP indicates that the model is falsely identifying some negative instances as positive.\n",
        "\n",
        "3.False Negatives (FN): This metric represents the number of positive instances that were incorrectly classified as negative by the model. A high number of FN indicates that the model is missing some positive instances.\n",
        "\n",
        "4.True Negatives (TN): This metric represents the number of negative instances that were correctly classified by the model. A high number of TN indicates that the model is doing a good job of correctly identifying negative instances.\n",
        "\n",
        "Types of Errors\n",
        "\n",
        "1.A Type 1 error (false positive) occurs when the model predicts a positive class when the actual class is negative. This means that the model has a tendency to identify false positives or to classify an observation as positive when it should be negative. A Type 1 error can have serious consequences in some applications, such as medical diagnoses, where false positives can result in unnecessary treatments or procedures.\n",
        "\n",
        "2.A Type 2 error (false negative) occurs when the model predicts a negative class when the actual class is positive. This means that the model has a tendency to identify false negatives or to classify an observation as negative when it should be positive. A Type 2 error can also have serious consequences, such as in medical diagnoses, where false negatives can lead to delayed treatment or even death.\n",
        "\n",
        "By analyzing a confusion matrix, you can identify the proportion of Type 1 and Type 2 errors made by your model and make adjustments to reduce their frequency. For example, if your model has a high rate of Type 1 errors, you may need to adjust the decision threshold to reduce the number of false positives. Similarly, if your model has a high rate of Type 2 errors, you may need to adjust the model parameters to increase sensitivity and reduce the number of false negatives."
      ],
      "metadata": {
        "id": "O6G-lNBAm6-R"
      }
    },
    {
      "cell_type": "markdown",
      "source": [
        "Q8. What are some common metrics that can be derived from a confusion matrix, and how are they\n",
        "calculated?"
      ],
      "metadata": {
        "id": "QauQtnomrrlt"
      }
    },
    {
      "cell_type": "markdown",
      "source": [
        "Answer:-\n",
        "\n",
        "With the help of Confusion Matrix we can calculate the following metrics:\n",
        "\n",
        "1.Accuracy:\n",
        "\n",
        "It measures the overall correctness of predictions and is calculated as\n",
        "(TP+TN)/(TP+TN+FP+FN).\n",
        "\n",
        "However, accuracy may not be suitable for imbalanced datasets.\n",
        "\n",
        "2.Precision (Positive Predictive Value):\n",
        "\n",
        "It measures the accuracy of positive predictions and is calculated as\n",
        "TP/(TP+FP).\n",
        "\n",
        "It answers the question: \"Of all the instances predicted as positive, how many were correctly classified?\"\n",
        "\n",
        "3.Recall (Sensitivity, True Positive Rate):\n",
        "\n",
        "It measures the model's ability to identify all relevant instances of the positive class and is calculated as\n",
        "TP/(TP+FN).\n",
        "\n",
        "It answers the question: \"Of all the actual positive instances, how many did the model correctly classify?\"\n",
        "\n",
        "4.Specificity (True Negative Rate):\n",
        "\n",
        "It measures the model's ability to identify all relevant instances of the negative class and is calculated as\n",
        "TN/(TN+FP).\n",
        "\n",
        "It answers the question: \"Of all the actual negative instances, how many did the model correctly classify?\"\n",
        "\n",
        "5.F1-Score:\n",
        "\n",
        "The F1-score is the harmonic mean of precision and recall and provides a balance between these two metrics. It is calculated as\n",
        "2(Precision*Recall) / (Precision+Recall).\n",
        "\n",
        "6.Receiver Operating Characteristic (ROC) Curve and Area Under the ROC Curve (AUC-ROC):\n",
        "\n",
        "These metrics evaluate a model's performance across various classification thresholds and are especially useful when you need to balance precision and recall. The ROC curve shows the trade-off between true positive rate and false positive rate, while AUC-ROC summarizes this trade-off into a single value."
      ],
      "metadata": {
        "id": "R6RpldUPrsJG"
      }
    },
    {
      "cell_type": "markdown",
      "source": [
        "Q9. What is the relationship between the accuracy of a model and the values in its confusion matrix?"
      ],
      "metadata": {
        "id": "S-WtGZ2ktNzV"
      }
    },
    {
      "cell_type": "markdown",
      "source": [
        "Answer:-\n",
        "\n",
        "The accuracy of a model is closely related to the values in its confusion matrix. In fact, accuracy is one of the most commonly used metrics derived from the confusion matrix.\n",
        "\n",
        "Accuracy measures the overall performance of the model by calculating the proportion of correctly classified instances. It is calculated as (TP + TN) / (TP + TN + FP + FN). The values of TP, TN, FP, and FN are all derived from the confusion matrix.\n",
        "\n",
        "The accuracy of a model can be impacted by the balance of the classes in the dataset. If one class is much more common than the other, the model may tend to predict the more common class more often, resulting in a high accuracy score even if the model performs poorly on the minority class.\n",
        "\n",
        "However, accuracy alone may not be a sufficient metric to evaluate the performance of a classification model, especially in imbalanced datasets. In such cases, other metrics like precision, recall, and F1 Score that take into account the trade-offs between different types of errors may be more appropriate. The confusion matrix provides the necessary information to calculate these metrics, as well as others like TPR and FPR, which can be useful in evaluating the performance of a binary classifier."
      ],
      "metadata": {
        "id": "YY89SfFOtOas"
      }
    },
    {
      "cell_type": "markdown",
      "source": [
        "Q10. How can you use a confusion matrix to identify potential biases or limitations in your machine learning\n",
        "model?"
      ],
      "metadata": {
        "id": "_YRVG7nmvHac"
      }
    },
    {
      "cell_type": "markdown",
      "source": [
        "Answer:-\n",
        "\n",
        "A confusion matrix can be a valuable tool for identifying potential biases or limitations in your machine learning model, particularly when you are dealing with classification tasks. Here's how you can use a confusion matrix to detect such biases or limitations:\n",
        "\n",
        "1.Class Imbalance:\n",
        "\n",
        "(i)Issue: Class imbalance occurs when one class significantly outnumbers the other in the dataset. This can lead to a model that is biased towards the majority class and may perform poorly on the minority class.\n",
        "\n",
        "(ii)Detection: Look at the distribution of values in the confusion matrix. If one class has a disproportionately higher number of true positives (TP) or true negatives (TN) compared to the other, it may indicate class imbalance.\n",
        "\n",
        "2.Bias Towards Negative or Positive Predictions:\n",
        "\n",
        "(i)Issue: A model may have a bias towards predicting one class more frequently than the other, leading to an imbalance in false positives (FP) or false negatives (FN).\n",
        "\n",
        "(ii)Detection: Compare the number of FP and FN for each class in the confusion matrix. If one class has a substantially higher number of FP or FN, it may indicate a bias towards that class in predictions.\n",
        "\n",
        "3.Threshold Sensitivity:\n",
        "\n",
        "(i)Issue: The model's predictions may be sensitive to the classification threshold used to convert predicted probabilities into class labels. A lower threshold may result in more positive predictions, while a higher threshold may lead to more negative predictions.\n",
        "\n",
        "(ii)Detection: Experiment with different classification thresholds and observe changes in FP and FN rates. A significant shift in predictions with threshold changes can highlight sensitivity issues.\n",
        "\n",
        "4.Misclassification Patterns:\n",
        "\n",
        "(i)Issue: Examining specific patterns of misclassification in the confusion matrix can reveal insights into where the model struggles. For example, if the model consistently misclassifies certain subgroups within a class, it may indicate bias or limitations.\n",
        "\n",
        "(ii)Detection: Analyze FN and FP patterns in the confusion matrix, paying attention to which features or characteristics are associated with misclassified instances.\n",
        "\n",
        "5.Performance Disparities:\n",
        "\n",
        "(i)Issue: Different classes within your target variable may exhibit varying degrees of model performance. One class may have a high precision, while another has a high recall or vice versa.\n",
        "\n",
        "(ii)Detection: Calculate class-specific metrics (precision, recall, F1-score) for each class based on the confusion matrix. Identify classes with significantly different performance characteristics.\n",
        "\n",
        "6.External Factors:\n",
        "\n",
        "(i)Issue: External factors, such as data collection bias, may introduce bias or limitations into the model. For example, if your training data is collected in a biased manner, the model may inherit those biases.\n",
        "\n",
        "(ii)Detection: Examine the sources of your training data and assess whether they may introduce inherent biases. Conduct a bias audit to identify potential sources of bias in data collection.\n",
        "\n",
        "Using a confusion matrix in conjunction with other metrics like precision, recall, F1-score, and ROC curves can help you uncover potential biases or limitations in your machine learning model. Once identified, you can take corrective measures, such as collecting more balanced data, adjusting classification thresholds, or addressing data collection biases, to mitigate these issues and improve the model's fairness and performance."
      ],
      "metadata": {
        "id": "Os9rev7PvJXL"
      }
    }
  ]
}